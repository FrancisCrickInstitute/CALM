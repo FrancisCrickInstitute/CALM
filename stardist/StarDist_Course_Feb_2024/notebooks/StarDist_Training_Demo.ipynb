{
 "cells": [
  {
   "cell_type": "markdown",
   "id": "a8d5bea4",
   "metadata": {},
   "source": [
    "# StarDist Training Notebook demo, Feb 2024\n",
    "## This notebook will walk you through using the demo model, and how the training works including:\n",
    "* Data Augmentation\n",
    "* Train/Test split\n",
    "* Number of rays\n",
    "* Metrics\n",
    "* Tau\n"
   ]
  },
  {
   "cell_type": "code",
   "execution_count": null,
   "id": "c35cda22",
   "metadata": {
    "tags": [
     "hide-input"
    ]
   },
   "outputs": [],
   "source": [
    "from __future__ import print_function, unicode_literals, absolute_import, division\n",
    "import os\n",
    "import sys\n",
    "import numpy as np\n",
    "import matplotlib\n",
    "matplotlib.rcParams[\"image.interpolation\"] = None\n",
    "import matplotlib.pyplot as plt\n",
    "%matplotlib inline\n",
    "%config InlineBackend.figure_format = 'retina'\n",
    "\n",
    "from glob import glob\n",
    "from tqdm import tqdm\n",
    "from tifffile import imread\n",
    "from csbdeep.utils import Path, normalize, download_and_extract_zip_file\n",
    "\n",
    "\n",
    "from stardist import fill_label_holes, relabel_image_stardist, random_label_cmap, calculate_extents, gputools_available\n",
    "from stardist.matching import matching, matching_dataset\n",
    "from stardist.models import Config2D, StarDist2D, StarDistData2D\n",
    "\n",
    "np.random.seed(42)\n",
    "lbl_cmap = random_label_cmap()"
   ]
  },
  {
   "cell_type": "code",
   "execution_count": null,
   "id": "3b199061",
   "metadata": {},
   "outputs": [],
   "source": [
    "#Check to see if GPU is enabled\n",
    "gputools_available()"
   ]
  },
  {
   "cell_type": "markdown",
   "id": "337752ee",
   "metadata": {},
   "source": [
    "# Data\n",
    "\n",
    "This code block downloads the sample data from the internet, specifically the github repository from the authors\n",
    "\n",
    "### When formatting your data for training, pay careful attention to how the data is formatted in the sample case. You will want to name your images in the same manner.\n",
    "\n",
    "### Note! Labels that are made by humans are typically called the \"ground truth\"\n",
    "\n",
    "<div class=\"alert alert-block alert-info\">\n",
    "Training data (for input `X` with associated label masks `Y`) can be provided via lists of numpy arrays, where each image can have a different size. Alternatively, a single numpy array can also be used if all images have the same size.  \n",
    "Input images can either be two-dimensional (single-channel) or three-dimensional (multi-channel) arrays, where the channel axis comes last. Label images need to be integer-valued.\n",
    "</div>"
   ]
  },
  {
   "cell_type": "code",
   "execution_count": null,
   "id": "284e1af7",
   "metadata": {},
   "outputs": [],
   "source": [
    "download_and_extract_zip_file(\n",
    "    url       = 'https://github.com/stardist/stardist/releases/download/0.1.0/dsb2018.zip',\n",
    "    targetdir = 'data',\n",
    "    verbose   = 1,\n",
    ")"
   ]
  },
  {
   "cell_type": "code",
   "execution_count": null,
   "id": "f1032b2f",
   "metadata": {},
   "outputs": [],
   "source": [
    "X = sorted(glob('data/dsb2018/train/images/*.tif'))\n",
    "Y = sorted(glob('data/dsb2018/train/masks/*.tif'))\n",
    "assert all(Path(x).name==Path(y).name for x,y in zip(X,Y))"
   ]
  },
  {
   "cell_type": "code",
   "execution_count": null,
   "id": "c647be9b",
   "metadata": {},
   "outputs": [],
   "source": [
    "print('The first three label images are: ',*X[0:3], sep='\\n')\n",
    "print('')\n",
    "print('The first three label images are: ',*Y[0:3], sep='\\n')"
   ]
  },
  {
   "cell_type": "code",
   "execution_count": null,
   "id": "cedf5559",
   "metadata": {},
   "outputs": [],
   "source": [
    "X = list(map(imread,X))\n",
    "Y = list(map(imread,Y))\n",
    "n_channel = 1 if X[0].ndim == 2 else X[0].shape[-1]"
   ]
  },
  {
   "cell_type": "markdown",
   "id": "2d4fb3e4",
   "metadata": {},
   "source": [
    "Normalize images and fill small label holes."
   ]
  },
  {
   "cell_type": "code",
   "execution_count": null,
   "id": "519c0152",
   "metadata": {},
   "outputs": [],
   "source": [
    "axis_norm = (0,1)   # normalize channels independently\n",
    "# axis_norm = (0,1,2) # normalize channels jointly\n",
    "if n_channel > 1:\n",
    "    print(\"Normalizing image channels %s.\" % ('jointly' if axis_norm is None or 2 in axis_norm else 'independently'))\n",
    "    sys.stdout.flush()\n",
    "\n",
    "X = [normalize(x,1,99.8,axis=axis_norm) for x in tqdm(X)]\n",
    "Y = [fill_label_holes(y) for y in tqdm(Y)]"
   ]
  },
  {
   "cell_type": "code",
   "execution_count": null,
   "id": "db3ae039",
   "metadata": {},
   "outputs": [],
   "source": [
    "\n",
    "assert len(X) > 1, \"not enough training data\"\n",
    "rng = np.random.RandomState(42)\n",
    "ind = rng.permutation(len(X))\n",
    "n_val = max(1, int(round(0.15 * len(ind))))\n",
    "ind_train, ind_val = ind[:-n_val], ind[-n_val:]\n",
    "X_val, Y_val = [X[i] for i in ind_val]  , [Y[i] for i in ind_val]\n",
    "X_trn, Y_trn = [X[i] for i in ind_train], [Y[i] for i in ind_train] \n",
    "print('number of images: %3d' % len(X))\n",
    "print('- training:       %3d' % len(X_trn))\n",
    "print('- validation:     %3d' % len(X_val))"
   ]
  },
  {
   "cell_type": "markdown",
   "id": "2a106ee6",
   "metadata": {},
   "source": [
    "### Training data consists of pairs of input image and label instances."
   ]
  },
  {
   "cell_type": "code",
   "execution_count": null,
   "id": "aa0298ea",
   "metadata": {},
   "outputs": [],
   "source": [
    "\n",
    "def plot_img_label(img, lbl, img_title=\"image\", lbl_title=\"label\", **kwargs):\n",
    "    fig, (ai,al) = plt.subplots(1,2, figsize=(12,5), gridspec_kw=dict(width_ratios=(1.25,1)))\n",
    "    im = ai.imshow(img, cmap='gray', clim=(0,1))\n",
    "    ai.set_title(img_title)    \n",
    "    fig.colorbar(im, ax=ai)\n",
    "    \n",
    "    al.imshow(lbl, cmap=lbl_cmap)\n",
    "    al.set_title(lbl_title)\n",
    "    plt.tight_layout()"
   ]
  },
  {
   "cell_type": "code",
   "execution_count": null,
   "id": "d44940e7",
   "metadata": {},
   "outputs": [],
   "source": [
    "i = min(9, len(X)-1)\n",
    "img, lbl = X[i], Y[i]\n",
    "assert img.ndim in (2,3)\n",
    "img = img if (img.ndim==2 or img.shape[-1]==3) else img[...,0]\n",
    "plot_img_label(img,lbl)\n",
    "None;"
   ]
  },
  {
   "cell_type": "markdown",
   "id": "5ceeec7a",
   "metadata": {},
   "source": [
    "# Configuration\n",
    "\n",
    "A `StarDist2D` model is specified via a `Config2D` object."
   ]
  },
  {
   "cell_type": "code",
   "execution_count": null,
   "id": "c8b2b991",
   "metadata": {},
   "outputs": [],
   "source": [
    "print(Config2D.__doc__)"
   ]
  },
  {
   "cell_type": "markdown",
   "id": "f76d65bc",
   "metadata": {},
   "source": [
    "# Example image\n"
   ]
  },
  {
   "cell_type": "markdown",
   "id": "bc4c6196",
   "metadata": {},
   "source": [
    "# See an image with it's ground truth labels"
   ]
  },
  {
   "cell_type": "code",
   "execution_count": null,
   "id": "8a05f350",
   "metadata": {},
   "outputs": [],
   "source": [
    "##Make up list of images and their labels\n",
    "\n",
    "i = min(4, len(X)-1)\n",
    "img, lbl = X[i], fill_label_holes(Y[i])\n",
    "assert img.ndim in (2,3)\n",
    "img = img if img.ndim==2 else img[...,:3]\n",
    "# assumed axes ordering of img and lbl is: YX(C)"
   ]
  },
  {
   "cell_type": "code",
   "execution_count": null,
   "id": "e901e5a5",
   "metadata": {},
   "outputs": [],
   "source": [
    "#plot the image\n",
    "\n",
    "plt.figure(figsize=(16,10))\n",
    "plt.subplot(121); plt.imshow(img,cmap='gray');   plt.axis('off'); plt.title('Raw image')\n",
    "plt.subplot(122); plt.imshow(lbl,cmap=lbl_cmap); plt.axis('off'); plt.title('GT labels')\n",
    "None;"
   ]
  },
  {
   "cell_type": "markdown",
   "id": "531a1876",
   "metadata": {},
   "source": [
    "# Fitting ground-truth labels with star-convex polygons\n",
    "\n",
    "## Rays\n",
    "### StarDist uses rays from a central point to map out the perimeter of the object.  The more rays coming out, the closer to actual the perimeter will be.  There is a compromise to be made though, the more rays you have, the slower the training will be\n",
    "\n",
    "#### This will show us if the objects can be fit by star-convex polygons"
   ]
  },
  {
   "cell_type": "code",
   "execution_count": null,
   "id": "435cc29d",
   "metadata": {
    "tags": [
     "hide-input"
    ]
   },
   "outputs": [],
   "source": [
    "## Generate images with different number of rays from 2^1 to 2^8\n",
    "\n",
    "n_rays = [2**i for i in range(2,8)]\n",
    "scores = []\n",
    "for r in tqdm(n_rays):\n",
    "    Y_reconstructed = [relabel_image_stardist(lbl, n_rays=r) for lbl in Y]\n",
    "    mean_iou = matching_dataset(Y, Y_reconstructed, thresh=0, show_progress=False).mean_true_score\n",
    "    scores.append(mean_iou)"
   ]
  },
  {
   "attachments": {
    "image.png": {
     "image/png": "[encoded data removed]"
    }
   },
   "cell_type": "markdown",
   "id": "ec2c8a3e",
   "metadata": {},
   "source": [
    "## Intersection over union\n",
    " The traditional measure of the how well a label fits to a ground truth is by measuring the intersection over union. \n",
    " ![image.png](attachment:image.png)"
   ]
  },
  {
   "cell_type": "markdown",
   "id": "99665d4c",
   "metadata": {},
   "source": [
    "## Here we can see how well we reconstruct the ground truth labels with varying amount of rays.  Obviously four is too few rays, but as we increase the number of rays after a certain point, we get diminishing returns"
   ]
  },
  {
   "cell_type": "code",
   "execution_count": null,
   "id": "aa518cb3",
   "metadata": {},
   "outputs": [],
   "source": [
    "fig, ax = plt.subplots(2,3, figsize=(16,11))\n",
    "for a,r in zip(ax.flat,n_rays):\n",
    "    a.imshow(relabel_image_stardist(lbl, n_rays=r), cmap=lbl_cmap)\n",
    "    a.set_title('Reconstructed (%d rays)' % r)\n",
    "    a.axis('off')\n",
    "plt.tight_layout();"
   ]
  },
  {
   "cell_type": "code",
   "execution_count": null,
   "id": "8553d10d",
   "metadata": {},
   "outputs": [],
   "source": [
    "plt.figure(figsize=(8,5))\n",
    "plt.plot(n_rays, scores, 'o-')\n",
    "plt.xlabel('Number of rays for star-convex polygon')\n",
    "plt.ylabel('Reconstruction score (mean intersection over union)')\n",
    "plt.title(\"Accuracy of ground truth reconstruction (should be > 0.8 for a reasonable number of rays)\")\n",
    "None;"
   ]
  },
  {
   "cell_type": "markdown",
   "id": "a13c9de7",
   "metadata": {},
   "source": [
    "# Do the Training!\n",
    "### Below is the different variables we can use to do some training. \n",
    "\n",
    "* Alter the number of rays based on how your images look\n",
    "* If you have memory issues, change the grid size (but default is generally ok)\n",
    "* Change use_gpu to True if you want to use the GPU for training (you do)\n",
    "* There are a ton of other variables you can use.  One thing that is often done is transfer learning, where you can use a pre-built model and add data to it to increase it's accuracy\n"
   ]
  },
  {
   "cell_type": "code",
   "execution_count": null,
   "id": "0dcc81f0",
   "metadata": {},
   "outputs": [],
   "source": [
    "# 32 is a good default choice (see 1_data.ipynb)\n",
    "n_rays = 32  #number of rays\n",
    "\n",
    "# Use OpenCL-based computations for data generator during training (requires 'gputools')\n",
    "use_gpu = True and gputools_available()\n",
    "\n",
    "# Predict on subsampled grid for increased efficiency and larger field of view\n",
    "grid = (2,2)\n",
    "\n",
    "conf = Config2D (\n",
    "    n_rays       = n_rays,\n",
    "    grid         = grid,\n",
    "    use_gpu      = use_gpu,\n",
    "    n_channel_in = n_channel,\n",
    ")\n",
    "print(conf)\n",
    "vars(conf)"
   ]
  },
  {
   "cell_type": "code",
   "execution_count": null,
   "id": "beb796c3",
   "metadata": {},
   "outputs": [],
   "source": [
    "if use_gpu:\n",
    "    from csbdeep.utils.tf import limit_gpu_memory\n",
    "    # adjust as necessary: limit GPU memory to be used by TensorFlow to leave some to OpenCL-based computations\n",
    "    #limit_gpu_memory(0.8)\n",
    "    # alternatively, try this:\n",
    "    limit_gpu_memory(None, allow_growth=True)"
   ]
  },
  {
   "cell_type": "markdown",
   "id": "7a1836c4",
   "metadata": {},
   "source": [
    "**Note:** The trained `StarDist2D` model will *not* predict completed shapes for partially visible objects at the image boundary if `train_shape_completion=False` (which is the default option)."
   ]
  },
  {
   "cell_type": "code",
   "execution_count": null,
   "id": "8ade7f5e",
   "metadata": {},
   "outputs": [],
   "source": [
    "model = StarDist2D(conf, name='stardist_demo', basedir='models')"
   ]
  },
  {
   "cell_type": "markdown",
   "id": "72483ad8",
   "metadata": {},
   "source": [
    "Check if the neural network has a large enough field of view to see up to the boundary of most objects."
   ]
  },
  {
   "cell_type": "code",
   "execution_count": null,
   "id": "36524675",
   "metadata": {},
   "outputs": [],
   "source": [
    "median_size = calculate_extents(list(Y), np.median)\n",
    "fov = np.array(model._axes_tile_overlap('YX'))\n",
    "print(f\"median object size:      {median_size}\")\n",
    "print(f\"network field of view :  {fov}\")\n",
    "if any(median_size > fov):\n",
    "    print(\"WARNING: median object size larger than field of view of the neural network.\")"
   ]
  },
  {
   "cell_type": "markdown",
   "id": "f3cce3c3",
   "metadata": {},
   "source": [
    "# Data Augmentation\n",
    "You can define a function/callable that applies augmentation to each batch of the data generator.  \n",
    "We here use an `augmenter` that applies random rotations, flips, and intensity changes, which are typically sensible for (2D) microscopy images (but you can disable augmentation by setting `augmenter = None`)."
   ]
  },
  {
   "cell_type": "code",
   "execution_count": null,
   "id": "2ab32c04",
   "metadata": {},
   "outputs": [],
   "source": [
    "def random_fliprot(img, mask): \n",
    "    assert img.ndim >= mask.ndim\n",
    "    axes = tuple(range(mask.ndim))\n",
    "    perm = tuple(np.random.permutation(axes))\n",
    "    img = img.transpose(perm + tuple(range(mask.ndim, img.ndim))) \n",
    "    mask = mask.transpose(perm) \n",
    "    for ax in axes: \n",
    "        if np.random.rand() > 0.5:\n",
    "            img = np.flip(img, axis=ax)\n",
    "            mask = np.flip(mask, axis=ax)\n",
    "    return img, mask \n",
    "\n",
    "def random_intensity_change(img):\n",
    "    img = img*np.random.uniform(0.6,2) + np.random.uniform(-0.2,0.2)\n",
    "    return img\n",
    "\n",
    "\n",
    "def augmenter(x, y):\n",
    "    \"\"\"Augmentation of a single input/label image pair.\n",
    "    x is an input image\n",
    "    y is the corresponding ground-truth label image\n",
    "    \"\"\"\n",
    "    x, y = random_fliprot(x, y)\n",
    "    x = random_intensity_change(x)\n",
    "    # add some gaussian noise\n",
    "    sig = 0.02*np.random.uniform(0,1)\n",
    "    x = x + sig*np.random.normal(0,1,x.shape)\n",
    "    return x, y"
   ]
  },
  {
   "cell_type": "code",
   "execution_count": null,
   "id": "10536e0b",
   "metadata": {},
   "outputs": [],
   "source": [
    "# plot some augmented examples\n",
    "img, lbl = X[0],Y[0]\n",
    "plot_img_label(img, lbl)\n",
    "for _ in range(3):\n",
    "    img_aug, lbl_aug = augmenter(img,lbl)\n",
    "    plot_img_label(img_aug, lbl_aug, img_title=\"image augmented\", lbl_title=\"label augmented\")"
   ]
  },
  {
   "cell_type": "markdown",
   "id": "39600627",
   "metadata": {},
   "source": [
    "# Callbacks\n",
    "\n",
    "Callbacks are functions that you can specify to run during the training, to get a feel for what is going on in the training.  Here, I wrote a Callback that every tenth epoch runs the model \"as is\" on a validation image, and generates a label image, and saves it to an image path.\n",
    "\n",
    "There are actually two images generated, a label image, and an image with the labels overlaid on the original image.\n",
    "\n"
   ]
  },
  {
   "cell_type": "code",
   "execution_count": null,
   "id": "90abf2a7",
   "metadata": {},
   "outputs": [],
   "source": [
    "from tensorflow.keras.callbacks import Callback\n",
    "\n",
    "\n",
    "class EvaluateModelCallback(Callback):\n",
    "    def __init__(self, validation_data, im_path):\n",
    "        super(EvaluateModelCallback, self).__init__()\n",
    "        self.validation_data = validation_data\n",
    "        self.im_path = im_path\n",
    "\n",
    "    def on_epoch_end(self, epoch, logs=None):\n",
    "        if epoch % 10 == 0:\n",
    "            # Assuming you have a function to evaluate your model on validation data\n",
    "            Y_val_pred = model.predict_instances(validation_data, n_tiles=model._guess_n_tiles(validation_data), show_tile_progress=False)[0]\n",
    "            \n",
    "            # Print or log the evaluation results\n",
    "            print(f\"\\nEvaluation results at epoch {epoch}:\")\n",
    "            plt.imshow(validation_data, cmap='gray')\n",
    "            plt.imshow(Y_val_pred, cmap=lbl_cmap, alpha=0.35)\n",
    "            #im_path= '/nemo/stp/lm/working/fallest/StarDist_Course_Jan_2024/output_images/gray/'\n",
    "            filename_tiff = im_path+\"Labels_epoch_\"+str(epoch)+\"_\"+model.name+\".tiff\"\n",
    "            filename_png = im_path+\"Overlay_epoch_\"+str(epoch)+\"_\"+model.name+\".png\"\n",
    "            print(filename_tiff)\n",
    "            plt.imsave(filename_tiff, Y_val_pred, cmap=lbl_cmap)\n",
    "            plt.savefig(filename_png)\n",
    "            \n",
    "\n",
    "\n"
   ]
  },
  {
   "cell_type": "code",
   "execution_count": null,
   "id": "4a3d8c5e",
   "metadata": {},
   "outputs": [],
   "source": [
    "#Set the image we want to use for the callback, and the path we want to save the images to\n",
    "validation_data = X_val[0]\n",
    "im_path= '/nemo/stp/lm/working/fallest/StarDist_Course_Jan_2024/output_images/gray/'\n",
    "\n",
    "if not os.path.exists(im_path):  #make the directory if it doesn't exist\n",
    "    os.makedirs(im_path)\n",
    "\n",
    "\n",
    "\n",
    "evaluate_callback = EvaluateModelCallback(validation_data, im_path) #set up the callback with the image and the path"
   ]
  },
  {
   "cell_type": "markdown",
   "id": "cbbdf2f5",
   "metadata": {},
   "source": [
    "### Show the image we're validating on"
   ]
  },
  {
   "cell_type": "code",
   "execution_count": null,
   "id": "3dfed5f1",
   "metadata": {},
   "outputs": [],
   "source": [
    "plt.imshow(validation_data)"
   ]
  },
  {
   "cell_type": "code",
   "execution_count": null,
   "id": "3cddc9e4",
   "metadata": {},
   "outputs": [],
   "source": []
  },
  {
   "cell_type": "markdown",
   "id": "0756521c",
   "metadata": {},
   "source": [
    "# Training"
   ]
  },
  {
   "cell_type": "code",
   "execution_count": null,
   "id": "045b5133",
   "metadata": {},
   "outputs": [],
   "source": []
  },
  {
   "cell_type": "code",
   "execution_count": null,
   "id": "24406746",
   "metadata": {},
   "outputs": [],
   "source": [
    "quick_demo = False\n",
    "#if false!\n",
    "if quick_demo==False:\n",
    "    epochs=2000\n",
    "    steps=20\n",
    "\n",
    "if quick_demo:\n",
    "    print (\n",
    "        \"NOTE: This is only for a quick demonstration!\\n\"\n",
    "        \"      Please set the variable 'quick_demo = False' for proper (long) training.\",\n",
    "        file=sys.stderr, flush=True\n",
    "    )\n",
    "    model.train(X_trn, Y_trn, validation_data=(X_val,Y_val), augmenter=augmenter,\n",
    "                epochs=2, steps_per_epoch=10)\n",
    "\n",
    "    print(\"====> Stopping training and loading previously trained demo model from disk.\", file=sys.stderr, flush=True)\n",
    "    model = StarDist2D.from_pretrained('2D_demo')\n",
    "else:\n",
    "    model.prepare_for_training() # open up the model for adding callbacks\n",
    "    model.callbacks.append(evaluate_callback) #add our callback\n",
    "    model.train(X_trn, Y_trn, validation_data=(X_val,Y_val), augmenter=augmenter, epochs=epochs, steps_per_epoch=steps)\n",
    "None;"
   ]
  },
  {
   "cell_type": "markdown",
   "id": "4fc1bab3",
   "metadata": {},
   "source": [
    "# Metrics:\n",
    "The code for the metrics can be found in : https://github.com/stardist/stardist/blob/master/stardist/models/base.py\n",
    "\n",
    "In the above computations, you'll see the same metric twice, i.e. loss and val_loss.  In this case, loss is the loss computed on the training set, and val_loss is the loss computed on the validation set.\n",
    "\n",
    "Some of the metrics that will help you understand what's going on are:\n",
    "\n",
    "* loss - Measure of how well the model is performing, the error between the predicted values and ground truth. We want this value to be low\n",
    "\n",
    "* prob_kld - Kullback-Leibler Divergence. This measures the divergence between two probability distributions, in this case the predicted probability distribution and the expected probability distributions. This should be low\n",
    "\n",
    "* iou_metric - The intersection over union.  The closer to 1 this is, the better\n",
    "\n",
    "* mae - Mean absolute error, difference between predicted and ground truth. This should decrease over time.\n",
    "\n",
    "* mse - Mean squared error of difference between predicted and ground truth. This should decrease over time.\n",
    "\n"
   ]
  },
  {
   "cell_type": "code",
   "execution_count": null,
   "id": "105391f8",
   "metadata": {},
   "outputs": [],
   "source": [
    "if quick_demo:\n",
    "    model.optimize_thresholds(X_val[:2], Y_val[:2])\n",
    "else:\n",
    "    model.optimize_thresholds(X_val, Y_val)"
   ]
  },
  {
   "cell_type": "markdown",
   "id": "a1fbeb3e",
   "metadata": {},
   "source": [
    "# Evaluation and Detection Performance\n",
    "Besides the losses and metrics during training, we can also quantitatively evaluate the actual detection/segmentation performance on the validation data by considering objects in the ground truth to be correctly matched if there are predicted objects with overlap (here [intersection over union (IoU)](https://en.wikipedia.org/wiki/Jaccard_index)) beyond a chosen IoU threshold $\\tau$.\n",
    "\n",
    "\n",
    "The corresponding matching statistics (average overlap, accuracy, recall, precision, etc.) are typically of greater practical relevance than the losses/metrics computed during training (but harder to formulate as a loss function). \n",
    "\n",
    "### Tau: Tau is the IoU threshold.  \n",
    "\n",
    "### The value of $\\tau$ can be between 0 (even slightly overlapping objects count as correctly predicted) and 1 (only pixel-perfectly overlapping objects count) and which $\\tau$ to use depends on the needed segmentation precision/application.\n",
    "\n",
    "Please see `help(matching)` for definitions of the abbreviations used in the evaluation below and see the Wikipedia page on [Sensitivity and specificity](https://en.wikipedia.org/wiki/Sensitivity_and_specificity) for further details."
   ]
  },
  {
   "cell_type": "code",
   "execution_count": null,
   "id": "a5193eb0",
   "metadata": {},
   "outputs": [],
   "source": [
    "#help(matching)"
   ]
  },
  {
   "cell_type": "markdown",
   "id": "f9e572ca",
   "metadata": {},
   "source": [
    "### First predict the labels for all validation images:"
   ]
  },
  {
   "cell_type": "code",
   "execution_count": null,
   "id": "c1d69ed4",
   "metadata": {},
   "outputs": [],
   "source": [
    "Y_val_pred = [model.predict_instances(x, n_tiles=model._guess_n_tiles(x), show_tile_progress=False)[0]\n",
    "              for x in tqdm(X_val)]"
   ]
  },
  {
   "cell_type": "markdown",
   "id": "1a7c06fc",
   "metadata": {},
   "source": [
    "Plot a GT/prediction example "
   ]
  },
  {
   "cell_type": "code",
   "execution_count": null,
   "id": "a3a2dc76",
   "metadata": {},
   "outputs": [],
   "source": [
    "plot_img_label(X_val[0],Y_val[0], lbl_title=\"label GT\")\n",
    "plot_img_label(X_val[0],Y_val_pred[0], lbl_title=\"label Pred\")"
   ]
  },
  {
   "cell_type": "markdown",
   "id": "30cee9d4",
   "metadata": {},
   "source": [
    "### Choose several IoU thresholds $\\tau$ that might be of interest and for each compute matching statistics for the validation data."
   ]
  },
  {
   "cell_type": "code",
   "execution_count": null,
   "id": "bb3c7245",
   "metadata": {},
   "outputs": [],
   "source": [
    "taus = [0.1, 0.2, 0.3, 0.4, 0.5, 0.6, 0.7, 0.8, 0.9]\n",
    "stats = [matching_dataset(Y_val, Y_val_pred, thresh=t, show_progress=False) for t in tqdm(taus)]"
   ]
  },
  {
   "cell_type": "markdown",
   "id": "114b315c",
   "metadata": {},
   "source": [
    "## Example: Print all available matching statistics for $\\tau=0.5$"
   ]
  },
  {
   "cell_type": "code",
   "execution_count": null,
   "id": "3b858089",
   "metadata": {},
   "outputs": [],
   "source": [
    "stats[taus.index(0.5)]"
   ]
  },
  {
   "cell_type": "markdown",
   "id": "c3e23d3a",
   "metadata": {},
   "source": [
    "### Plot the matching statistics and the number of true/false positives/negatives as a function of the IoU threshold $\\tau$. \n",
    "\n",
    "* False positives are the number of objects that are identified that aren't there in reality.\n",
    "* False negatives are the objects that are missed by the algorithm\n",
    "* True positives are the ones that are correct\n",
    "\n",
    "\n",
    "### As we increase tau, we tend to get many more false negatives and less true positives, as we are requiring the matches to be more and more perfect"
   ]
  },
  {
   "cell_type": "code",
   "execution_count": null,
   "id": "f60c791d",
   "metadata": {},
   "outputs": [],
   "source": [
    "fig, (ax1,ax2) = plt.subplots(1,2, figsize=(15,5))\n",
    "\n",
    "for m in ('precision', 'recall', 'accuracy', 'f1', 'mean_true_score', 'mean_matched_score', 'panoptic_quality'):\n",
    "    ax1.plot(taus, [s._asdict()[m] for s in stats], '.-', lw=2, label=m)\n",
    "ax1.set_xlabel(r'IoU threshold $\\tau$')\n",
    "ax1.set_ylabel('Metric value')\n",
    "ax1.grid()\n",
    "ax1.legend()\n",
    "\n",
    "for m in ('fp', 'tp', 'fn'):\n",
    "    ax2.plot(taus, [s._asdict()[m] for s in stats], '.-', lw=2, label=m)\n",
    "ax2.set_xlabel(r'IoU threshold $\\tau$')\n",
    "ax2.set_ylabel('Number #')\n",
    "ax2.grid()\n",
    "ax2.legend();"
   ]
  },
  {
   "cell_type": "code",
   "execution_count": null,
   "id": "97b2d2cd",
   "metadata": {},
   "outputs": [],
   "source": []
  }
 ],
 "metadata": {
  "kernelspec": {
   "display_name": "Local StarDist_Crick_Feb24",
   "language": "",
   "name": "rik_local_stardist_crick_feb24"
  },
  "language_info": {
   "codemirror_mode": {
    "name": "ipython",
    "version": 3
   },
   "file_extension": ".py",
   "mimetype": "text/x-python",
   "name": "python",
   "nbconvert_exporter": "python",
   "pygments_lexer": "ipython3",
   "version": "3.8.0"
  }
 },
 "nbformat": 4,
 "nbformat_minor": 5
}
