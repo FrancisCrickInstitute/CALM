{
 "cells": [
  {
   "cell_type": "markdown",
   "id": "02994d52",
   "metadata": {},
   "source": [
    "# This is a notebook just to see if you were able to install stardist and get it to use the GPU's properly\n",
    "\n",
    "* To run a cell, click on the cell and press \"shift-enter\" at the same time.  That'll run the cell\n",
    "* Run the first cell to import stardist.  This'll take a 10-30 seconds\n",
    "* Run the second cell to verify that you have access to the GPU.  If you do, the output will be \"true\""
   ]
  },
  {
   "cell_type": "code",
   "execution_count": 1,
   "id": "8b735d42",
   "metadata": {},
   "outputs": [],
   "source": [
    "from stardist import  gputools_available"
   ]
  },
  {
   "cell_type": "code",
   "execution_count": null,
   "id": "39917fff",
   "metadata": {},
   "outputs": [],
   "source": [
    "gputools_available()"
   ]
  },
  {
   "cell_type": "code",
   "execution_count": null,
   "id": "a0af0508",
   "metadata": {},
   "outputs": [],
   "source": []
  }
 ],
 "metadata": {
  "kernelspec": {
   "display_name": "Local StarDist_Crick_Feb24",
   "language": "",
   "name": "rik_local_stardist_crick_feb24"
  },
  "language_info": {
   "codemirror_mode": {
    "name": "ipython",
    "version": 3
   },
   "file_extension": ".py",
   "mimetype": "text/x-python",
   "name": "python",
   "nbconvert_exporter": "python",
   "pygments_lexer": "ipython3",
   "version": "3.8.0"
  }
 },
 "nbformat": 4,
 "nbformat_minor": 5
}
